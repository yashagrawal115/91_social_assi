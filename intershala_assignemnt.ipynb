{
 "cells": [
  {
   "cell_type": "code",
   "execution_count": null,
   "metadata": {},
   "outputs": [],
   "source": [
    "def file_read(fname):\n",
    "        with open(fname) as f:\n",
    "                #Content_list is the list that contains the read lines.     \n",
    "                content_list = f.readlines()\n",
    "                print(content_list)\n",
    "\n",
    "file_read(r'test.txt')"
   ]
  },
  {
   "cell_type": "code",
   "execution_count": null,
   "metadata": {},
   "outputs": [],
   "source": [
    "with open(r'test.txt') as f:\n",
    "    content = f.readlines()\n",
    "# you may also want to remove whitespace characters like `\\n` at the end of each line\n",
    "content = [x.strip() for x in content]\n",
    "print(content)"
   ]
  },
  {
   "cell_type": "code",
   "execution_count": null,
   "metadata": {},
   "outputs": [],
   "source": [
    "##Assignmnet2---> no of days between given dates\n",
    "from datetime import date\n",
    "f_date = date(2014, 7, 2)\n",
    "l_date = date(2014, 7, 11)\n",
    "delta = l_date - f_date\n",
    "print(delta.days)"
   ]
  },
  {
   "cell_type": "code",
   "execution_count": null,
   "metadata": {},
   "outputs": [],
   "source": [
    "###3. convert dict object into JSON data\n",
    "import json\n",
    "python_dict =  {\"name\": \"Yash\", \"age\": 24, \"Occupation\":\"developer\"}\n",
    "python_list =  [\"Red\", \"Green\", \"Black\"]\n",
    "python_str =  \"Python Json\"\n",
    "python_int =  (1234)\n",
    "python_float =  (21.34)\n",
    "python_T =  (True)\n",
    "python_F =  (False)\n",
    "python_N =  (None)\n",
    "\n",
    "json_dict = json.dumps(python_dict)\n",
    "json_list = json.dumps(python_list)\n",
    "json_str = json.dumps(python_str)\n",
    "json_num1 = json.dumps(python_int)\n",
    "json_num2 = json.dumps(python_float)\n",
    "json_t = json.dumps(python_T)\n",
    "json_f = json.dumps(python_F)\n",
    "json_n = json.dumps(python_N)\n",
    "\n",
    "print(\"json dict : \", json_dict)\n",
    "print(\"jason list : \", json_list)\n",
    "print(\"json string : \", json_str)\n",
    "print(\"json number1 : \", json_num1)\n",
    "print(\"json number2 : \", json_num2)\n",
    "print(\"json true : \", json_t)\n",
    "print(\"json false : \", json_f)\n",
    "print(\"json null ; \", json_n)"
   ]
  },
  {
   "cell_type": "code",
   "execution_count": null,
   "metadata": {},
   "outputs": [],
   "source": [
    "###4. Sort list of Dicts using Lambda\n",
    "models = [{'make':'Nokia', 'model':216, 'color':'Black'}, {'make':'Mi Max', 'model':'2', 'color':'Gold'}, {'make':'Samsung', 'model': 7, 'color':'Blue'}]\n",
    "print(\"Original list of dictionaries :\")\n",
    "print(models)\n",
    "sorted_models = sorted(models, key = lambda x: x['color'])\n",
    "print(\"\\nSorting the List of dictionaries :\")\n",
    "print(sorted_models)"
   ]
  },
  {
   "cell_type": "code",
   "execution_count": null,
   "metadata": {},
   "outputs": [],
   "source": [
    "###5.Count words of a file\n",
    "def count_words(filepath):\n",
    "   with open(filepath) as f:\n",
    "       data = f.read()\n",
    "       data.replace(\",\", \" \")\n",
    "       return len(data.split(\" \"))\n",
    "print(count_words(\"test.txt\"))"
   ]
  },
  {
   "cell_type": "code",
   "execution_count": null,
   "metadata": {},
   "outputs": [],
   "source": [
    "##6. Convert an array to Machine values\n",
    "from array import *\n",
    "import binascii\n",
    "print(\"Bytes to String: \")\n",
    "x = array('i', [1, 2, 3, 4,  5, 6])\n",
    "s = x.tobytes()\n",
    "print(s)\n",
    "print('Array of bytes:', binascii.hexlify(s))"
   ]
  },
  {
   "cell_type": "code",
   "execution_count": null,
   "metadata": {},
   "outputs": [],
   "source": [
    "###7.Writing log to the file using system time and date as suffix\n",
    "#import logging\n",
    "import datetime\n",
    "with open('error.log', 'r') as reader:\n",
    "    # Read and print the entire file line by line\n",
    "    line = reader.readline()\n",
    "    while line != '':  # The EOF char is an empty string\n",
    "        # print(line, end='')\n",
    "        line = reader.readline()\n",
    "        with open('write_log.txt', 'a')as writer:\n",
    "            # logging.basicConfig(format='Date-Time : %(asctime)s : Line No. : %(lineno)d - %(message)s', filename='write_log.txt', filemode='w')\n",
    "            now = datetime.datetime.now()\n",
    "            now.strftime(now.strftime(\"%Y-%m-%d %H:%M:%S\"))\n",
    "            writer.write(str(now))\n",
    "            writer.write('\\t')\n",
    "            writer.write(line)"
   ]
  },
  {
   "cell_type": "code",
   "execution_count": null,
   "metadata": {},
   "outputs": [],
   "source": [
    "###8.Generate random log and write to files up to 2MB\n",
    "import glob\n",
    "import logging\n",
    "import random\n",
    "\n",
    "import logging.handlers\n",
    "    \n",
    "LOG_FILENAME = 'logging_rotatingfile_example.out'\n",
    "\n",
    "'''def logger_thread(q):\n",
    "    while True:\n",
    "        record = q.get()\n",
    "        if record is None:\n",
    "            break\n",
    "        logger = logging.getLogger(record.name)\n",
    "        logger.handle(record)'''\n",
    "# Set up a specific logger with our desired output level\n",
    "my_logger = logging.getLogger('MyLogger')\n",
    "\n",
    "my_logger.setLevel(logging.DEBUG)\n",
    "levels = [logging.DEBUG, logging.INFO, logging.WARNING, logging.ERROR,\n",
    "              logging.CRITICAL]\n",
    "# Add the log message handler to the logger\n",
    "handler = logging.handlers.RotatingFileHandler(\n",
    "              LOG_FILENAME, maxBytes=2000000, backupCount=5)\n",
    "\n",
    "my_logger.addHandler(handler)\n",
    "for i in range(200000):\n",
    "        lvl = random.choice(levels)\n",
    "        #logger = logging.getLogger(random.choice(my_logger))\n",
    "        my_logger.log(lvl, 'Message no. %d' %i)\n",
    "# Log some messages\n",
    "#for i in range(20):\n",
    "    #my_logger.debug('i = %d' % i)'''\n",
    "\n",
    "# See what files are created\n",
    "logfiles = glob.glob('%s*' % LOG_FILENAME)\n",
    "\n",
    "for filename in logfiles:\n",
    "    print(filename)"
   ]
  },
  {
   "cell_type": "code",
   "execution_count": null,
   "metadata": {},
   "outputs": [],
   "source": [
    "##9. Get list of installed software on the system\n",
    "# importing the module \n",
    "import subprocess \n",
    "\n",
    "# traverse the software list \n",
    "Data = subprocess.check_output(['wmic', 'product', 'get', 'name']) \n",
    "a = str(Data) \n",
    "\n",
    "# try block \n",
    "try: \n",
    "\t\n",
    "\t# arrange the string \n",
    "\tfor i in range(len(a)): \n",
    "\t\tprint(a.split(\"\\\\r\\\\r\\\\n\")[6:][i]) \n",
    "\n",
    "except IndexError as e: \n",
    "\tprint(\"All Done\")\n"
   ]
  },
  {
   "cell_type": "code",
   "execution_count": null,
   "metadata": {},
   "outputs": [],
   "source": [
    "##9. Ping and check Live Ips\n",
    "import socket\n",
    "from datetime import datetime\n",
    "net = input(\"Enter the IP address: \")\n",
    "net1 = net.split('.')\n",
    "a = '.'\n",
    "\n",
    "net2 = net1[0] + a + net1[1] + a + net1[2] + a\n",
    "st1 = int(input(\"Enter the Starting Number: \"))\n",
    "en1 = int(input(\"Enter the Last Number: \"))\n",
    "en1 = en1 + 1\n",
    "t1 = datetime.now()\n",
    "\n",
    "def scan(addr):\n",
    "   s = socket.socket(socket.AF_INET,socket.SOCK_STREAM)\n",
    "   socket.setdefaulttimeout(1)\n",
    "   result = s.connect_ex((addr,135))\n",
    "   if result == 0:\n",
    "      return 1\n",
    "   else :\n",
    "      return 0\n",
    "\n",
    "def run1():\n",
    "   for ip in range(st1,en1):\n",
    "      addr = net2 + str(ip)\n",
    "      if (scan(addr)):\n",
    "         print (addr , \"is live\")\n",
    "         \n",
    "run1()\n",
    "t2 = datetime.now()\n",
    "total = t2 - t1\n",
    "print (\"Scanning completed in: \" , total)"
   ]
  },
  {
   "cell_type": "code",
   "execution_count": null,
   "metadata": {},
   "outputs": [],
   "source": [
    "##9. Varient of searching set of software installed on machine\n",
    "import winapps\n",
    "\n",
    "for app in winapps.search_installed('Java'):\n",
    "    print(app)"
   ]
  },
  {
   "cell_type": "code",
   "execution_count": null,
   "metadata": {},
   "outputs": [],
   "source": []
  }
 ],
 "metadata": {
  "kernelspec": {
   "display_name": "Python 3",
   "language": "python",
   "name": "python3"
  },
  "language_info": {
   "codemirror_mode": {
    "name": "ipython",
    "version": 3
   },
   "file_extension": ".py",
   "mimetype": "text/x-python",
   "name": "python",
   "nbconvert_exporter": "python",
   "pygments_lexer": "ipython3",
   "version": "3.8.5"
  }
 },
 "nbformat": 4,
 "nbformat_minor": 4
}
